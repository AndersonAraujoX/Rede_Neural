{
  "cells": [
    {
      "cell_type": "markdown",
      "metadata": {
        "id": "4b0afbf6"
      },
      "source": [
        "# Redes Neurais e Aprendizado Profundo\n",
        "SCC0270 - 2/2022\n",
        "\n",
        "\n",
        "## Trabalho 1 - Redes Densas e Convolucionais\n",
        "\n",
        "NOME: Anderson Araujo de Oliveira\n",
        "\n",
        "NUSP: 11371311\n",
        "\n",
        "NOME: Vinicius Finke\n",
        "\n",
        "NUSP: 9791052"
      ],
      "id": "4b0afbf6"
    },
    {
      "cell_type": "markdown",
      "metadata": {
        "id": "69d57ec5"
      },
      "source": [
        "Neste trabalho você deverá implementar duas redes neurais usando Pytorch, uma utilizando camadas densas e outra utilizando camadas convolucionais. Será utilizado o dataset Fashion MNIST."
      ],
      "id": "69d57ec5"
    },
    {
      "cell_type": "markdown",
      "metadata": {
        "id": "302e4495"
      },
      "source": [
        "### Instruções:\n",
        "\n",
        "- Preencha o nome e o número USP da dupla na célula acima;\n",
        "- Renomeie o notebook, inserindo o número USP de cada um da dupla, conforme o exemplo: \"SCC0270-T1-1234567-7654321\";\n",
        "- Neste notebook, você irá encontrar 5 exercícios, cada um deles valendo uma certa quantidade de pontos. A conclusão de todos os exercícios com sucesso valerá nota 10;\n",
        "- Responda cada exercício inserindo o código adequado para cada função.\n",
        "- Envie o notebook inteiro como entrega do exercício.\n",
        "- Certifique-se de que os códigos executam corretamente, uma vez que a nota só será atribuída caso seja possível executar o código, e ele esteja correto.\n",
        "- Fraudes ou plágio implica em nota zero e possíveis medidas administrativas.\n"
      ],
      "id": "302e4495"
    },
    {
      "cell_type": "markdown",
      "metadata": {
        "id": "f2eb4c72"
      },
      "source": [
        "### Objetivos:\n",
        "\n",
        "- Compreender como o aprendizado de máquina consegue resolver problemas que métodos tradicionais de programação não conseguem\n",
        "- Aprender sobre o dataset público Fashion MNIST\n",
        "- Observar as diferenças do uso de camadas densas e convolucionais"
      ],
      "id": "f2eb4c72"
    },
    {
      "cell_type": "markdown",
      "metadata": {
        "id": "cadc8bd2"
      },
      "source": [
        "### Imports"
      ],
      "id": "cadc8bd2"
    },
    {
      "cell_type": "code",
      "execution_count": null,
      "metadata": {
        "id": "d6a6358b"
      },
      "outputs": [],
      "source": [
        "from torchvision import datasets, transforms, utils\n",
        "\n",
        "import torch\n",
        "import torch.nn as nn\n",
        "import torch.optim as optim\n",
        "import torch.nn.functional as F\n",
        "from torch.autograd import Variable\n",
        "\n",
        "import matplotlib.pyplot as plt\n",
        "import numpy as np"
      ],
      "id": "d6a6358b"
    },
    {
      "cell_type": "code",
      "execution_count": null,
      "metadata": {
        "colab": {
          "base_uri": "https://localhost:8080/"
        },
        "id": "7538835c",
        "outputId": "9ffa6148-1494-4c1e-8f64-49a7b18e7613"
      },
      "outputs": [
        {
          "output_type": "execute_result",
          "data": {
            "text/plain": [
              "device(type='cuda', index=0)"
            ]
          },
          "metadata": {},
          "execution_count": 33
        }
      ],
      "source": [
        "# Selecionar GPU caso disponível\n",
        "device = torch.device(\"cuda:0\" if torch.cuda.is_available() else \"cpu\")\n",
        "device"
      ],
      "id": "7538835c"
    },
    {
      "cell_type": "markdown",
      "metadata": {
        "id": "27fc071e"
      },
      "source": [
        "### Dataset Fashion-MNIST"
      ],
      "id": "27fc071e"
    },
    {
      "cell_type": "markdown",
      "metadata": {
        "id": "6ee649f9"
      },
      "source": [
        "### Dados, Anotações e Subsets\n",
        "\n",
        "- `train_set`: Imagens usadas para treinar a rede neural. Contém anotações corretas para cada imagem de `train_set`, usado para avaliar as predições do modelo durante a fase de treinamento.\n",
        "- `test_set`: Imagens usadas para avaliar o desempenho do modelo, uma vez que ele já foi treinado. Contém anotações corretas para cada imagem de `test_set`, usado para avaliar as predições do modelo durante a fase de validação\n"
      ],
      "id": "6ee649f9"
    },
    {
      "cell_type": "markdown",
      "metadata": {
        "id": "a2827e94"
      },
      "source": [
        "### Importar dados para a memória"
      ],
      "id": "a2827e94"
    },
    {
      "cell_type": "code",
      "execution_count": null,
      "metadata": {
        "id": "a567d63e"
      },
      "outputs": [],
      "source": [
        "# Fazer o download dos dados\n",
        "\n",
        "train_set = datasets.FashionMNIST(\n",
        "    \"./data\",\n",
        "    download=True,\n",
        "    transform=transforms.Compose([transforms.ToTensor()])\n",
        ")\n",
        "train_loader = torch.utils.data.DataLoader(train_set, batch_size=100)\n",
        "\n",
        "test_set = datasets.FashionMNIST(\n",
        "    \"./data\",\n",
        "    download=True,\n",
        "    train=False,\n",
        "    transform=transforms.Compose([transforms.ToTensor()])\n",
        ")\n",
        "test_loader = torch.utils.data.DataLoader(test_set, batch_size=100)"
      ],
      "id": "a567d63e"
    },
    {
      "cell_type": "markdown",
      "metadata": {
        "id": "d9b6200b"
      },
      "source": [
        "### Explorando o dataset"
      ],
      "id": "d9b6200b"
    },
    {
      "cell_type": "code",
      "execution_count": null,
      "metadata": {
        "colab": {
          "base_uri": "https://localhost:8080/"
        },
        "id": "9be98bd0",
        "outputId": "084790ab-0775-44ca-d375-ce3bc3424ffc"
      },
      "outputs": [
        {
          "output_type": "execute_result",
          "data": {
            "text/plain": [
              "60000"
            ]
          },
          "metadata": {},
          "execution_count": 35
        }
      ],
      "source": [
        "# Tamanho do dataset\n",
        "len(train_set)"
      ],
      "id": "9be98bd0"
    },
    {
      "cell_type": "code",
      "execution_count": null,
      "metadata": {
        "colab": {
          "base_uri": "https://localhost:8080/"
        },
        "id": "c00177e0",
        "outputId": "238dcfed-9e3c-4a20-bf41-f935b26d67e3"
      },
      "outputs": [
        {
          "output_type": "execute_result",
          "data": {
            "text/plain": [
              "torch.Size([100, 1, 28, 28])"
            ]
          },
          "metadata": {},
          "execution_count": 36
        }
      ],
      "source": [
        "# Vamos observar o que é cada loader\n",
        "example = next(iter(train_loader))\n",
        "example[0].size()"
      ],
      "id": "c00177e0"
    },
    {
      "cell_type": "code",
      "execution_count": null,
      "metadata": {
        "colab": {
          "base_uri": "https://localhost:8080/",
          "height": 282
        },
        "id": "3a096b21",
        "outputId": "35611b17-93f8-4936-e569-4e7f55efaa40"
      },
      "outputs": [
        {
          "output_type": "stream",
          "name": "stdout",
          "text": [
            "9\n"
          ]
        },
        {
          "output_type": "display_data",
          "data": {
            "text/plain": [
              "<Figure size 432x288 with 1 Axes>"
            ],
            "image/png": "[encoded data removed]"
          },
          "metadata": {
            "needs_background": "light"
          }
        }
      ],
      "source": [
        "# Uma imagem do train_set, com sua respectiva label\n",
        "img, label = next(iter(train_set))\n",
        "plt.imshow(img.squeeze(), cmap=\"gray\")\n",
        "print(label)"
      ],
      "id": "3a096b21"
    },
    {
      "cell_type": "code",
      "execution_count": null,
      "metadata": {
        "id": "df314fc6"
      },
      "outputs": [],
      "source": [
        "# Função de ajuda para ler o que significa cada label\n",
        "def convert_label(label):\n",
        "    output_mapping = {\n",
        "        0: \"T-shirt/Top\",\n",
        "        1: \"Trouser\",\n",
        "        2: \"Pullover\",\n",
        "        3: \"Dress\",\n",
        "        4: \"Coat\",\n",
        "        5: \"Sandal\",\n",
        "        6: \"Shirt\",\n",
        "        7: \"Sneaker\",\n",
        "        8: \"Bag\",\n",
        "        9: \"Ankle Boot\"\n",
        "    }\n",
        "\n",
        "    if type(label) == torch.Tensor:\n",
        "        input = label.item()\n",
        "    else:\n",
        "        input = label\n",
        "\n",
        "    return output_mapping[input]"
      ],
      "id": "df314fc6"
    },
    {
      "cell_type": "code",
      "execution_count": null,
      "metadata": {
        "colab": {
          "base_uri": "https://localhost:8080/",
          "height": 191
        },
        "id": "644bacf0",
        "outputId": "b26cc808-f0f1-4170-810e-c426115f8687"
      },
      "outputs": [
        {
          "output_type": "stream",
          "name": "stdout",
          "text": [
            "<class 'torch.Tensor'> <class 'torch.Tensor'>\n",
            "torch.Size([10, 1, 28, 28]) torch.Size([10])\n",
            "labels:  Ankle Boot, T-shirt/Top, T-shirt/Top, Dress, T-shirt/Top, Pullover, Sneaker, Pullover, Sandal, Sandal, "
          ]
        },
        {
          "output_type": "display_data",
          "data": {
            "text/plain": [
              "<Figure size 1080x1440 with 1 Axes>"
            ],
            "image/png": "[encoded data removed]"
          },
          "metadata": {
            "needs_background": "light"
          }
        }
      ],
      "source": [
        "# Vamos observar algumas imagens do Fashion MNIST\n",
        "\n",
        "demo_loader = torch.utils.data.DataLoader(train_set, batch_size=10)\n",
        "\n",
        "batch = next(iter(demo_loader))\n",
        "images, labels = batch\n",
        "print(type(images), type(labels))\n",
        "print(images.shape, labels.shape)\n",
        "\n",
        "grid = utils.make_grid(images, nrow=10)\n",
        "\n",
        "plt.figure(figsize=(15, 20))\n",
        "plt.imshow(np.transpose(grid, (1, 2, 0)))\n",
        "print(\"labels: \", end=\" \")\n",
        "for i, label in enumerate(labels):\n",
        "    print(convert_label(label), end=\", \")"
      ],
      "id": "644bacf0"
    },
    {
      "cell_type": "markdown",
      "metadata": {
        "id": "fc89190d"
      },
      "source": [
        "### Exercício 1 (3 pontos)\n",
        "\n",
        "**Exercício**: Neste trabalho, será necessário implementar duas arquiteturas distintas de redes neurais. Uma vez que elas estejam implementadas, será necessário executar o laço (loop) de treinamento dos modelos por diversas épocas. Para isso, nesse primeiro exercício, crie uma função genérica, capaz de receber um modelo Pytorch e executar os passos básicos de propagação, cálculo do erro, retropropagação e atualização dos pesos. Essa função será utilizada nos exercícios seguintes para treinar os modelos por você implementados. Implemente o laço de treinamento de um modelo por num_epochs.\n",
        "\n",
        "**Instruções**:\n",
        "- Implemente os passos de propagação (forward)\n",
        "- Realize o cálculo do erro usando um critério genérico fornecido pela assinatura da função\n",
        "- Inicialize os gradientes a zero\n",
        "- Implemente o passo de retropropagação do erro (backpropagation)\n",
        "- Faça um passo de otimização\n",
        "- DICA: como essas linhas estão englobadas em uma função, utilize os argumentos da função fit(...), de forma genérica\n"
      ],
      "id": "fc89190d"
    },
    {
      "cell_type": "code",
      "execution_count": null,
      "metadata": {
        "id": "2facaa06"
      },
      "outputs": [],
      "source": [
        "def fit(model, criterion, optimizer, train_loader, test_loader, num_epochs=5):\n",
        "    model.to(device)\n",
        "\n",
        "    train_losses = []\n",
        "    test_losses = []\n",
        "\n",
        "\n",
        "    accuracy_list = []\n",
        "\n",
        "\n",
        "    predictions_list = []\n",
        "    labels_list = []\n",
        "\n",
        "    for epoch in range(num_epochs):\n",
        "        running_loss = 0\n",
        "\n",
        "        for images, labels in train_loader:\n",
        "            # Transfering images and labels to GPU if available\n",
        "            images, labels = images.to(device), labels.to(device)\n",
        "\n",
        "            ### INÍCIO DO CÓDIGO ### (≈ 5 linhas)\n",
        "\n",
        "            outputs = model(images)\n",
        "\n",
        "            optimizer.zero_grad()\n",
        "\n",
        "            loss = criterion(outputs, labels)\n",
        "\n",
        "            loss.backward()\n",
        "\n",
        "            optimizer.step()\n",
        "\n",
        "            ### FIM DO CÓDIGO ###\n",
        "\n",
        "            running_loss += loss.item()\n",
        "\n",
        "        else:\n",
        "        # Testing the model\n",
        "\n",
        "            with torch.no_grad():\n",
        "                # Set the model to evaluation mode\n",
        "                model.eval()\n",
        "\n",
        "                total = 0\n",
        "                test_loss = 0\n",
        "                correct = 0\n",
        "\n",
        "                for images, labels in test_loader:\n",
        "                    images, labels = images.to(device), labels.to(device)\n",
        "                    labels_list.append(labels)\n",
        "                    total += len(labels)\n",
        "\n",
        "                    ### INÍCIO DO CÓDIGO ### (≈ 1 linha)\n",
        "                    outputs = model(images)\n",
        "\n",
        "                    ### FIM DO CÓDIGO ###\n",
        "\n",
        "                    predictions = torch.max(outputs, 1)[1].to(device)\n",
        "                    predictions_list.append(predictions)\n",
        "                    correct += (predictions == labels).sum()\n",
        "\n",
        "                    test_loss += criterion(outputs, labels).item()\n",
        "\n",
        "                test_losses.append(test_loss/len(test_loader))\n",
        "\n",
        "                accuracy = correct * 100 / total\n",
        "                accuracy_list.append(accuracy.item())\n",
        "\n",
        "\n",
        "            # Set the model to training mode\n",
        "            model.train()\n",
        "\n",
        "        train_losses.append(running_loss/len(train_loader))\n",
        "\n",
        "        print(f'Epoch {epoch+1}/{num_epochs} .. Train Loss: {train_losses[-1]:.5f} .. Test Loss: {test_losses[-1]:.5f} .. Test Accuracy: {accuracy_list[-1]:.3f}%')\n",
        "\n",
        "\n",
        "    results = {\n",
        "        'train_losses': train_losses,\n",
        "        'test_losses': test_losses,\n",
        "        'accuracy_list': accuracy_list\n",
        "    }\n",
        "\n",
        "    return results"
      ],
      "id": "2facaa06"
    },
    {
      "cell_type": "markdown",
      "metadata": {
        "id": "889cbf8e"
      },
      "source": [
        "### Exercício 2 - Camadas Densas (2 pontos)\n",
        "\n",
        "**Exercício 2.A**: Implemente uma rede neural, usando camadas densas (fully connected), capaz de classificar as imagens do dataset Fashion MNIST. Descreva e justifique a escolha dos parâmetros e das camadas.\n",
        "\n",
        "**Instruções**:\n",
        "- Inicialize a superclasse\n",
        "- Crie o projeto da rede neural usando camadas densas\n",
        "- Implemente o passo de propagação\n",
        "- Insira uma célula de texto, ou comentários ao longo do código com a justificativa"
      ],
      "id": "889cbf8e"
    },
    {
      "cell_type": "code",
      "execution_count": null,
      "metadata": {
        "id": "444c110e"
      },
      "outputs": [],
      "source": [
        "class NetworkDense(nn.Module):\n",
        "\n",
        "    def __init__(self):\n",
        "\n",
        "        super(NetworkDense,self).__init__()\n",
        "        self.fc1 = nn.Linear(28*28, 200)\n",
        "        self.fc2 = nn.Linear(200, 100)\n",
        "        self.fc3 = nn.Linear(100, 10)\n",
        "    def forward(self, x):\n",
        "        x = x.view(-1, 28*28)\n",
        "        x = F.relu(self.fc1(x))\n",
        "        x = F.relu(self.fc2(x))\n",
        "        x = F.log_softmax(self.fc3(x))\n",
        "\n",
        "        return x\n"
      ],
      "id": "444c110e"
    },
    {
      "cell_type": "code",
      "execution_count": null,
      "metadata": {
        "id": "d9816ce8"
      },
      "outputs": [],
      "source": [
        "# Justifique a escolha da arquitetura\n",
        "\n",
        "#Utilizamos três linear\n",
        "#Onde a primeira camada contem 28*28 o tamanho da imagem\n",
        "#Para as camadas seguintes diminuímos gradativamente a quantidade neurônios porem de forma que\n",
        "#Poderia ter o máximo de combinações entre os neurônios até chegarmos ao tamanho da classe 10 e assim usar log_softmax"
      ],
      "id": "d9816ce8"
    },
    {
      "cell_type": "markdown",
      "metadata": {
        "id": "6099498b"
      },
      "source": [
        "**Exercício 2.B**: Utilizando a classe `NetworkDense` implementada anteriormente, inicialize o modelo, defina uma função para loss, o otimizador, e a learning rate desejados. Depois, treine o modelo por algumas épocas."
      ],
      "id": "6099498b"
    },
    {
      "cell_type": "code",
      "execution_count": null,
      "metadata": {
        "id": "2eba9050",
        "scrolled": true,
        "colab": {
          "base_uri": "https://localhost:8080/"
        },
        "outputId": "e7bd5652-5127-4d66-ae15-082859dd8e17"
      },
      "outputs": [
        {
          "output_type": "stream",
          "name": "stdout",
          "text": [
            "NetworkDense(\n",
            "  (fc1): Linear(in_features=784, out_features=200, bias=True)\n",
            "  (fc2): Linear(in_features=200, out_features=100, bias=True)\n",
            "  (fc3): Linear(in_features=100, out_features=10, bias=True)\n",
            ")\n"
          ]
        }
      ],
      "source": [
        "### INÍCIO DO CÓDIGO ### (≈ 4 linhas)\n",
        "model_dense = NetworkDense()\n",
        "criterion = nn.CrossEntropyLoss()\n",
        "learning_rate =  0.01\n",
        "optimizer = optim.Adam(model_dense.parameters(), lr=learning_rate,weight_decay=0.01)\n",
        "### FIM DO CÓDIGO ###\n",
        "\n",
        "print(model_dense)"
      ],
      "id": "2eba9050"
    },
    {
      "cell_type": "code",
      "execution_count": null,
      "metadata": {
        "id": "0d77c184",
        "scrolled": true,
        "colab": {
          "base_uri": "https://localhost:8080/"
        },
        "outputId": "7163bea7-2bee-4548-89f2-a99fcfe9becd"
      },
      "outputs": [
        {
          "output_type": "stream",
          "name": "stderr",
          "text": [
            "/usr/local/lib/python3.7/dist-packages/ipykernel_launcher.py:13: UserWarning: Implicit dimension choice for log_softmax has been deprecated. Change the call to include dim=X as an argument.\n",
            "  del sys.path[0]\n"
          ]
        },
        {
          "output_type": "stream",
          "name": "stdout",
          "text": [
            "Epoch 1/10 .. Train Loss: 0.66884 .. Test Loss: 0.57671 .. Test Accuracy: 79.990%\n",
            "Epoch 2/10 .. Train Loss: 0.58068 .. Test Loss: 0.56733 .. Test Accuracy: 79.950%\n",
            "Epoch 3/10 .. Train Loss: 0.56693 .. Test Loss: 0.55051 .. Test Accuracy: 81.330%\n",
            "Epoch 4/10 .. Train Loss: 0.55705 .. Test Loss: 0.54346 .. Test Accuracy: 81.220%\n",
            "Epoch 5/10 .. Train Loss: 0.55188 .. Test Loss: 0.55476 .. Test Accuracy: 81.230%\n",
            "Epoch 6/10 .. Train Loss: 0.55483 .. Test Loss: 0.55502 .. Test Accuracy: 80.790%\n",
            "Epoch 7/10 .. Train Loss: 0.55545 .. Test Loss: 0.55178 .. Test Accuracy: 79.580%\n",
            "Epoch 8/10 .. Train Loss: 0.55168 .. Test Loss: 0.56972 .. Test Accuracy: 80.060%\n",
            "Epoch 9/10 .. Train Loss: 0.55213 .. Test Loss: 0.55808 .. Test Accuracy: 80.990%\n",
            "Epoch 10/10 .. Train Loss: 0.55001 .. Test Loss: 0.60414 .. Test Accuracy: 78.620%\n"
          ]
        }
      ],
      "source": [
        "### INÍCIO DO CÓDIGO ### (≈ 1 linha)\n",
        "den_results = fit(model_dense, criterion, optimizer, train_loader, test_loader,10)\n",
        "### FIM DO CÓDIGO ###"
      ],
      "id": "0d77c184"
    },
    {
      "cell_type": "markdown",
      "metadata": {
        "id": "41b4c0e9"
      },
      "source": [
        "### Exercício 3  - Camadas Convolucionais (2 pontos)\n",
        "\n",
        "**Exercício 3.A**: Implemente uma rede neural, usando camadas convolucionais (Conv2d), capaz de classificar as imagens do dataset Fashion MNIST. Descreva e justifique a escolha dos parâmetros e das camadas.\n",
        "\n",
        "**Instruções**:\n",
        "- Inicialize a superclasse\n",
        "- Crie o projeto da rede neural usando camadas convolucionais\n",
        "- Implemente o passo de propagação\n",
        "- Insira uma célula de texto, ou comentários ao longo do código com a justificativa"
      ],
      "id": "41b4c0e9"
    },
    {
      "cell_type": "code",
      "execution_count": null,
      "metadata": {
        "id": "wphJttu05E6W"
      },
      "outputs": [],
      "source": [
        "from numpy.ma.core import size\n",
        "class NetworkCNN(nn.Module):\n",
        "\n",
        "    def __init__(self):\n",
        "        super(NetworkCNN, self).__init__()\n",
        "\n",
        "        self.conv1 = nn.Conv2d(in_channels=1, out_channels=20, kernel_size=(5, 5)) #520 parametros\n",
        "        self.relu1 = nn.ReLU()\n",
        "        self.maxpool1 = nn.MaxPool2d(kernel_size=(2, 2), stride=(2, 2))\n",
        "\n",
        "        self.conv2 = nn.Conv2d(in_channels=20, out_channels=50, kernel_size=(5, 5)) #25050 parametros\n",
        "        self.relu2 = nn.ReLU()\n",
        "        self.maxpool2 = nn.MaxPool2d(kernel_size=(2, 2), stride=(2, 2))\n",
        "\n",
        "        self.fc1 = nn.Linear(in_features=800, out_features=500) #400500\n",
        "        self.relu3 = nn.ReLU()\n",
        "\n",
        "        self.fc2 = nn.Linear(in_features=500, out_features=10) #5010 parametros\n",
        "        self.logSoftmax = nn.LogSoftmax(dim=1)\n",
        "\n",
        "\n",
        "    def forward(self, x):\n",
        "\n",
        "        x = self.conv1(x)\n",
        "        x = self.relu1(x)\n",
        "        x = self.maxpool1(x)\n",
        "\n",
        "        x = self.conv2(x)\n",
        "        x = self.relu2(x)\n",
        "        x = self.maxpool2(x)\n",
        "\n",
        "        x = torch.flatten(x, 1)\n",
        "        x = self.fc1(x)\n",
        "        x = self.relu3(x)\n",
        "\n",
        "        x = self.fc2(x)\n",
        "        output = self.logSoftmax(x)\n",
        "\n",
        "        return output\n"
      ],
      "id": "wphJttu05E6W"
    },
    {
      "cell_type": "code",
      "source": [
        "# Justifique a escolha da arquitetura\n",
        "\n",
        "#Duas camadas convulocionais com um max pool seguido fazemos um flatten na matriz\n",
        "#Para utilizar um sistema de rede densa (nn.linear), por causa que a rede convulocional filtro os parametros de forma que os mais relevantes ficassem\n",
        "#Para nn.linear redes densas, assim escolhe isso para que possa aplicar logsoftmax"
      ],
      "metadata": {
        "id": "awMFxArI-k1M"
      },
      "id": "awMFxArI-k1M",
      "execution_count": null,
      "outputs": []
    },
    {
      "cell_type": "markdown",
      "metadata": {
        "id": "b98c48dc"
      },
      "source": [
        "**Exercício 3.B**: Utilizando a classe `NetworkCNN` implementada anteriormente, inicialize o modelo, defina uma função para loss, o otimizador, e a learning rate desejados. Depois, treine o modelo por algumas épocas."
      ],
      "id": "b98c48dc"
    },
    {
      "cell_type": "code",
      "execution_count": null,
      "metadata": {
        "colab": {
          "base_uri": "https://localhost:8080/"
        },
        "id": "58287f52",
        "outputId": "81b83172-f3d6-45dc-9254-18bc47e680ae"
      },
      "outputs": [
        {
          "output_type": "stream",
          "name": "stdout",
          "text": [
            "NetworkCNN(\n",
            "  (conv1): Conv2d(1, 20, kernel_size=(5, 5), stride=(1, 1))\n",
            "  (relu1): ReLU()\n",
            "  (maxpool1): MaxPool2d(kernel_size=(2, 2), stride=(2, 2), padding=0, dilation=1, ceil_mode=False)\n",
            "  (conv2): Conv2d(20, 50, kernel_size=(5, 5), stride=(1, 1))\n",
            "  (relu2): ReLU()\n",
            "  (maxpool2): MaxPool2d(kernel_size=(2, 2), stride=(2, 2), padding=0, dilation=1, ceil_mode=False)\n",
            "  (fc1): Linear(in_features=800, out_features=500, bias=True)\n",
            "  (relu3): ReLU()\n",
            "  (fc2): Linear(in_features=500, out_features=10, bias=True)\n",
            "  (logSoftmax): LogSoftmax(dim=1)\n",
            ")\n"
          ]
        }
      ],
      "source": [
        "### INÍCIO DO CÓDIGO ### (≈ 4 linhas)\n",
        "\n",
        "model_cnn = NetworkCNN()\n",
        "criterion =  nn.CrossEntropyLoss()\n",
        "learning_rate = 0.001\n",
        "optimizer = optim.Adam(model_cnn.parameters(), learning_rate, weight_decay=0.0001)\n",
        "### FIM DO CÓDIGO ###\n",
        "\n",
        "print(model_cnn)"
      ],
      "id": "58287f52"
    },
    {
      "cell_type": "code",
      "execution_count": null,
      "metadata": {
        "colab": {
          "base_uri": "https://localhost:8080/"
        },
        "id": "0b240e9c",
        "outputId": "66d2bc01-280d-497c-e196-10e4c94b2995"
      },
      "outputs": [
        {
          "output_type": "stream",
          "name": "stdout",
          "text": [
            "Epoch 1/10 .. Train Loss: 0.55258 .. Test Loss: 0.42896 .. Test Accuracy: 84.170%\n",
            "Epoch 2/10 .. Train Loss: 0.34042 .. Test Loss: 0.36880 .. Test Accuracy: 86.230%\n",
            "Epoch 3/10 .. Train Loss: 0.28979 .. Test Loss: 0.32649 .. Test Accuracy: 87.780%\n",
            "Epoch 4/10 .. Train Loss: 0.25772 .. Test Loss: 0.29576 .. Test Accuracy: 89.260%\n",
            "Epoch 5/10 .. Train Loss: 0.23390 .. Test Loss: 0.28352 .. Test Accuracy: 89.690%\n",
            "Epoch 6/10 .. Train Loss: 0.21484 .. Test Loss: 0.28373 .. Test Accuracy: 89.850%\n",
            "Epoch 7/10 .. Train Loss: 0.19642 .. Test Loss: 0.28446 .. Test Accuracy: 89.870%\n",
            "Epoch 8/10 .. Train Loss: 0.18089 .. Test Loss: 0.28653 .. Test Accuracy: 89.980%\n",
            "Epoch 9/10 .. Train Loss: 0.16619 .. Test Loss: 0.29034 .. Test Accuracy: 90.450%\n",
            "Epoch 10/10 .. Train Loss: 0.15149 .. Test Loss: 0.28617 .. Test Accuracy: 90.700%\n"
          ]
        }
      ],
      "source": [
        "### INÍCIO DO CÓDIGO ### (≈ 1 linha)\n",
        "cnn_results = fit(model_cnn, criterion, optimizer, train_loader, test_loader,10)\n",
        "### FIM DO CÓDIGO ###"
      ],
      "id": "0b240e9c"
    },
    {
      "cell_type": "markdown",
      "metadata": {
        "id": "d8f10449"
      },
      "source": [
        "### Exercício 4  - Quantidade de parâmetros treináveis (1 ponto)\n",
        "\n",
        "**Exercício**: Quantos parâmetros treináveis cada um dos modelos desenvolvidos possui? Justifique. Informe os valores para `model_dense` e `model_cnn`."
      ],
      "id": "d8f10449"
    },
    {
      "cell_type": "markdown",
      "metadata": {
        "id": "87df2a6a"
      },
      "source": [
        "model_dense = 178.110\n",
        "\n",
        "model_cnn = 431.080\n",
        "\n",
        "cálculo de camadas densas: (28\\*28\\*200+200+200\\*100+100+100\\*10+10)\n",
        "\n",
        "cálculo de camadas convolucionais: (5\\*5\\*1+1)\\*20+(5\\*5\\*20+1)\\*50+800\\*500+500+500\\*10+10)"
      ],
      "id": "87df2a6a"
    },
    {
      "cell_type": "markdown",
      "metadata": {
        "id": "5b23ef3b"
      },
      "source": [
        "### Exercício 5 - Comparação de Resultados (2 pontos)\n",
        "\n",
        "**Exercício**: Compare as métricas de acurácia dos dois modelos desenvolvidos. Qual dos dois obteve melhores resultados?  Por quê? Qual característica das redes que justificam seu desempenho?\n",
        "\n",
        "Utilize o gráfico para auxiliar na análise. Insira uma célula de texto com a sua resposta"
      ],
      "id": "5b23ef3b"
    },
    {
      "cell_type": "code",
      "execution_count": null,
      "metadata": {
        "id": "82a9a2fe",
        "colab": {
          "base_uri": "https://localhost:8080/",
          "height": 295
        },
        "outputId": "52d990e8-8571-4d58-c2d3-6a3b0d94987f"
      },
      "outputs": [
        {
          "output_type": "display_data",
          "data": {
            "text/plain": [
              "<Figure size 432x288 with 1 Axes>"
            ],
            "image/png": "[encoded data removed]"
          },
          "metadata": {
            "needs_background": "light"
          }
        }
      ],
      "source": [
        "### INÍCIO DO CÓDIGO ### (≈ 2 linhas)\n",
        "plt.plot(cnn_results['accuracy_list'],label='CNN')\n",
        "plt.plot(den_results['accuracy_list'],label='Dense')\n",
        "### FIM DO CÓDIGO ###\n",
        "\n",
        "plt.legend(frameon=False)\n",
        "plt.xlabel(\"Epoch\")\n",
        "plt.ylabel(\"Accuracy\")\n",
        "plt.title(\"Accuracy\")\n",
        "plt.show()"
      ],
      "id": "82a9a2fe"
    },
    {
      "cell_type": "markdown",
      "metadata": {
        "id": "453a0b7f"
      },
      "source": [
        "Podemos ver que a rede CNN obteve melhores resultados, isso se deve principalmente à imensa quantidade de parâmetros de treinamento (aproximadamente 4x mais do que na rede densa) e ao uso das operações de convolução dentro das matrizes, possibilitando um cálculo mais eficiente dos tensores e ao uso conjunto dessas operações com camadas densas, para finalizar a predição do algoritmo."
      ],
      "id": "453a0b7f"
    },
    {
      "cell_type": "markdown",
      "metadata": {
        "id": "5040a0be"
      },
      "source": [
        "### Indo além... - Comparação de Resultados (sem ponto)\n",
        "\n",
        "É possível plotar o gráfico de loss do treino e da validação para cada um dos modelos. Observe como os erros se comportam de maneira diferente para cada um dos subsets."
      ],
      "id": "5040a0be"
    },
    {
      "cell_type": "code",
      "execution_count": null,
      "metadata": {
        "id": "98b72e6a",
        "colab": {
          "base_uri": "https://localhost:8080/",
          "height": 295
        },
        "outputId": "bcfd157f-4c33-428d-ea51-8d30c0e10b96"
      },
      "outputs": [
        {
          "output_type": "display_data",
          "data": {
            "text/plain": [
              "<Figure size 432x288 with 1 Axes>"
            ],
            "image/png": "[encoded data removed]"
          },
          "metadata": {
            "needs_background": "light"
          }
        }
      ],
      "source": [
        "plt.plot(cnn_results['train_losses'], label='Training loss')\n",
        "plt.plot(cnn_results['test_losses'], label='Validation loss')\n",
        "\n",
        "plt.legend(frameon=False)\n",
        "plt.xlabel(\"Epoch\")\n",
        "plt.ylabel(\"Loss\")\n",
        "plt.title(\"Loss\")\n",
        "plt.show()"
      ],
      "id": "98b72e6a"
    },
    {
      "cell_type": "code",
      "execution_count": null,
      "metadata": {
        "id": "71da0c86",
        "colab": {
          "base_uri": "https://localhost:8080/",
          "height": 295
        },
        "outputId": "02458c1f-82b5-452e-c99a-80a14f75bc69"
      },
      "outputs": [
        {
          "output_type": "display_data",
          "data": {
            "text/plain": [
              "<Figure size 432x288 with 1 Axes>"
            ],
            "image/png": "[encoded data removed]"
          },
          "metadata": {
            "needs_background": "light"
          }
        }
      ],
      "source": [
        "plt.plot(den_results['train_losses'], label='Training loss')\n",
        "plt.plot(den_results['test_losses'], label='Validation loss')\n",
        "\n",
        "plt.legend(frameon=False)\n",
        "plt.xlabel(\"Epoch\")\n",
        "plt.ylabel(\"Loss\")\n",
        "plt.title(\"Loss\")\n",
        "plt.show()"
      ],
      "id": "71da0c86"
    },
    {
      "cell_type": "code",
      "execution_count": null,
      "metadata": {
        "id": "8176bf25"
      },
      "outputs": [],
      "source": [],
      "id": "8176bf25"
    }
  ],
  "metadata": {
    "colab": {
      "provenance": []
    },
    "kernelspec": {
      "display_name": "Python 3",
      "language": "python",
      "name": "python3"
    },
    "language_info": {
      "codemirror_mode": {
        "name": "ipython",
        "version": 3
      },
      "file_extension": ".py",
      "mimetype": "text/x-python",
      "name": "python",
      "nbconvert_exporter": "python",
      "pygments_lexer": "ipython3",
      "version": "3.8.8"
    },
    "toc": {
      "base_numbering": 1,
      "nav_menu": {},
      "number_sections": false,
      "sideBar": false,
      "skip_h1_title": false,
      "title_cell": "Table of Contents",
      "title_sidebar": "Contents",
      "toc_cell": false,
      "toc_position": {},
      "toc_section_display": false,
      "toc_window_display": false
    },
    "accelerator": "GPU"
  },
  "nbformat": 4,
  "nbformat_minor": 5
}